{
 "cells": [
  {
   "cell_type": "code",
   "execution_count": 1,
   "metadata": {},
   "outputs": [],
   "source": [
    "import json"
   ]
  },
  {
   "cell_type": "code",
   "execution_count": 5,
   "metadata": {},
   "outputs": [
    {
     "data": {
      "text/plain": [
       "['']"
      ]
     },
     "execution_count": 5,
     "metadata": {},
     "output_type": "execute_result"
    }
   ],
   "source": [
    "\"\".split(\"#\")"
   ]
  },
  {
   "cell_type": "code",
   "execution_count": 28,
   "metadata": {},
   "outputs": [],
   "source": [
    "res = [ line.strip().split(\"#\")[0] for line in open(\"config/custom/global_config.cfg\",\"r\") if line.split(\"#\")[0].strip() != \"\" ]"
   ]
  },
  {
   "cell_type": "code",
   "execution_count": 29,
   "metadata": {},
   "outputs": [
    {
     "data": {
      "text/plain": [
       "'\": 10 }'"
      ]
     },
     "execution_count": 29,
     "metadata": {},
     "output_type": "execute_result"
    }
   ],
   "source": [
    "\" \".join(res)[1890:]"
   ]
  },
  {
   "cell_type": "code",
   "execution_count": 38,
   "metadata": {},
   "outputs": [
    {
     "data": {
      "text/plain": [
       "['python', 'train.py']"
      ]
     },
     "execution_count": 38,
     "metadata": {},
     "output_type": "execute_result"
    }
   ],
   "source": [
    "def stringfy( item ):\n",
    "    if isinstance(item, list):\n",
    "        return \" \".join( [str(el) for el in item] )\n",
    "    else:\n",
    "        return str(item)\n",
    "list(map(stringfy, [ \"python\",\"train.py\",\n",
    "                        \n",
    "                   ]))"
   ]
  },
  {
   "cell_type": "code",
   "execution_count": 54,
   "metadata": {},
   "outputs": [],
   "source": [
    "res = \" \".join([ line.strip().split(\"#\")[0] for line in open(\"config/custom/global_config.cfg\",\"r\") if line.strip().split(\"#\")[0].strip() != \"\" ])"
   ]
  },
  {
   "cell_type": "code",
   "execution_count": 55,
   "metadata": {},
   "outputs": [
    {
     "data": {
      "text/plain": [
       "'\":10,  \"print_every\":500,   \"s'"
      ]
     },
     "execution_count": 55,
     "metadata": {},
     "output_type": "execute_result"
    }
   ],
   "source": [
    "res[750:780]"
   ]
  },
  {
   "cell_type": "code",
   "execution_count": 56,
   "metadata": {},
   "outputs": [],
   "source": [
    "config = json.loads(\" \".join([ line.strip().split(\"#\")[0] for line in open(\"config/custom/global_config.cfg\",\"r\") if line.strip().split(\"#\")[0].strip() != \"\" ]))\n"
   ]
  },
  {
   "cell_type": "code",
   "execution_count": null,
   "metadata": {},
   "outputs": [],
   "source": []
  },
  {
   "cell_type": "code",
   "execution_count": 64,
   "metadata": {},
   "outputs": [],
   "source": [
    "input_str = \"\"\"\n",
    "    parser.add_argument(\"-log_folder\")\n",
    "    parser.add_argument(\"-log_file_name\")\n",
    "    parser.add_argument(\"-start\", type = int, default = 0)\n",
    "    parser.add_argument(\"-size\", type = int, default = 0)\n",
    "    parser.add_argument(\"-K_list\", type = int, nargs = \"+\", default = [10,20,50,100,200,500,1000,2000] )\n",
    "    parser.add_argument(\"-encoder_gpu_list\", type = int, nargs = \"+\", default = None)\n",
    "    parser.add_argument(\"-ranker_gpu_list\", type = int, nargs = \"+\", default = None)\n",
    "    parser.add_argument(\"-input_corpus_path\")\n",
    "    parser.add_argument(\"-unigram_words_path\")\n",
    "    parser.add_argument(\"-prefetch_model_folder\")\n",
    "    parser.add_argument(\"-prefetch_model_path\", default = None)\n",
    "    parser.add_argument(\"-prefetch_embedding_path\")\n",
    "    parser.add_argument(\"-paper_database_path\")\n",
    "    parser.add_argument(\"-context_database_path\")\n",
    "    parser.add_argument(\"-embed_dim\", type = int, default = 200)\n",
    "    parser.add_argument(\"-num_heads\", type = int, default = 8)\n",
    "    parser.add_argument(\"-hidden_dim\", type = int, default = 1024)\n",
    "    parser.add_argument(\"-max_seq_len\", type = int, default = 512)\n",
    "    parser.add_argument(\"-max_doc_len\", type = int, default = 3)\n",
    "    parser.add_argument(\"-n_para_types\", type = int, default = 100)\n",
    "    parser.add_argument(\"-num_enc_layers\", type = int, default = 1)\n",
    "    parser.add_argument(\"-citation_title_label\", type = int, default = 0)\n",
    "    parser.add_argument(\"-citation_abstract_label\", type = int, default = 1)\n",
    "    parser.add_argument(\"-citation_context_label\", type = int, default = 3)\n",
    "    \"\"\""
   ]
  },
  {
   "cell_type": "code",
   "execution_count": 65,
   "metadata": {},
   "outputs": [
    {
     "name": "stdout",
     "output_type": "stream",
     "text": [
      "                          \"-log_folder\",config[\"log_folder\"],\n",
      "                          \"-log_file_name\", ??????\n",
      "                          \"-start\", ??????\n",
      "                          \"-size\", ??????\n",
      "                          \"-K_list\",config[\"K_list\"],\n",
      "                          \"-encoder_gpu_list\", ??????\n",
      "                          \"-ranker_gpu_list\", ??????\n",
      "                          \"-input_corpus_path\", ??????\n",
      "                          \"-unigram_words_path\",config[\"unigram_words_path\"],\n",
      "                          \"-prefetch_model_folder\",config[\"prefetch_model_folder\"],\n",
      "                          \"-prefetch_model_path\", ??????\n",
      "                          \"-prefetch_embedding_path\",config[\"prefetch_embedding_path\"],\n",
      "                          \"-paper_database_path\",config[\"paper_database_path\"],\n",
      "                          \"-context_database_path\",config[\"context_database_path\"],\n",
      "                          \"-embed_dim\",config[\"embed_dim\"],\n",
      "                          \"-num_heads\",config[\"num_heads\"],\n",
      "                          \"-hidden_dim\",config[\"hidden_dim\"],\n",
      "                          \"-max_seq_len\",config[\"max_seq_len\"],\n",
      "                          \"-max_doc_len\",config[\"max_doc_len\"],\n",
      "                          \"-n_para_types\",config[\"n_para_types\"],\n",
      "                          \"-num_enc_layers\",config[\"num_enc_layers\"],\n",
      "                          \"-citation_title_label\",config[\"citation_title_label\"],\n",
      "                          \"-citation_abstract_label\",config[\"citation_abstract_label\"],\n",
      "                          \"-citation_context_label\",config[\"citation_context_label\"],\n"
     ]
    }
   ],
   "source": [
    "import re\n",
    "metric_mapper = re.compile('\\\"-(.*?)\\\"')\n",
    "for line in input_str.strip().split(\"\\n\"):\n",
    "    metric = metric_mapper.findall(line)[0]\n",
    "    if metric in config:\n",
    "        print( '                          \"-%s\",config[\"%s\"],'%(metric, metric) )\n",
    "    else:\n",
    "        print( '                          \"-%s\", ??????'%(metric) )"
   ]
  },
  {
   "cell_type": "code",
   "execution_count": 63,
   "metadata": {},
   "outputs": [
    {
     "data": {
      "text/plain": [
       "['n_para_types']"
      ]
     },
     "execution_count": 63,
     "metadata": {},
     "output_type": "execute_result"
    }
   ],
   "source": [
    "metric_mapper.findall( \"\"\"parser.add_argument(\"-n_para_types\", type = int, default = 100  )\"\"\" )"
   ]
  },
  {
   "cell_type": "code",
   "execution_count": null,
   "metadata": {},
   "outputs": [],
   "source": []
  },
  {
   "cell_type": "code",
   "execution_count": 7,
   "metadata": {},
   "outputs": [
    {
     "data": {
      "text/plain": [
       "['{',\n",
       " '\"prefetch_model_folder\":\"../../model/prefetch/custom/\",',\n",
       " '\"paper_database_path\":\"../../data/custom/papers.json\",',\n",
       " '\"context_database_path\":\"../../data/custom/contexts.json\",',\n",
       " '\"train_corpus_path\":\"../../data/custom/train_with_prefetched_ids.json\",',\n",
       " '\"log_folder\":\"../../log/prefetch/custom/\",',\n",
       " '\"prefetch_embedding_path\":\"../../embedding/prefetch/custom/paper_embedding.pkl\",',\n",
       " '\"input_corpus_path_for_get_prefetched_ids_during_training\":\"../../data/custom/train.json\",',\n",
       " '\"output_corpus_path_for_get_prefetched_ids_during_training\":\"../../data/custom/train_with_prefetched_ids.json\",',\n",
       " '\"input_corpus_path_for_validation\":\"../../data/custom/val.json\",',\n",
       " '\"max_num_samples_per_batch\":100,',\n",
       " '\"n_device\":1,',\n",
       " '\"print_every\":500,',\n",
       " '\"save_every\":2000,',\n",
       " '\"max_num_iterations\":2000,',\n",
       " '\"K_list\":[10,20,50,100,200,500,1000,2000],',\n",
       " '\"top_K_prefetched_ids_for_mining_hard_negative\":100,',\n",
       " '\"num_papers_with_updated_embeddings_per_loop\":100000,',\n",
       " '\"num_training_examples_with_updated_prefetched_ids_per_loop\":50000,',\n",
       " '\"num_val_examples_per_loop\":0,',\n",
       " '\"unigram_words_path\":\"../../model/glove/vocabulary_200dim.pkl\",',\n",
       " '\"unigram_embedding_path\":\"../../model/glove/unigram_embeddings_200dim.pkl\",',\n",
       " '\"train_log_file_name\":\"train.log\",',\n",
       " '\"val_log_file_name\":\"validate_NN.log\",',\n",
       " '\"max_n_positive\": 1,',\n",
       " '\"max_n_hard_negative\": 3,',\n",
       " '\"max_n_easy_negative\": 1,',\n",
       " '\"num_workers\": 2,',\n",
       " '\"initial_learning_rate\": 1e-4,',\n",
       " '\"l2_weight\": 1e-5,',\n",
       " '\"dropout_rate\": 0.1,',\n",
       " '\"moving_average_decay\": 0.999,',\n",
       " '\"base_margin\": 0.05,',\n",
       " '\"similarity\": \"cosine\",',\n",
       " '\"positive_irrelevance_levels\":[1,2],',\n",
       " '\"max_num_checkpoints\": 20,',\n",
       " '\"embed_dim\": 200,',\n",
       " '\"num_heads\": 8,',\n",
       " '\"hidden_dim\": 1024,',\n",
       " '\"max_seq_len\": 512,',\n",
       " '\"max_doc_len\": 3,',\n",
       " '\"n_para_types\": 100,',\n",
       " '\"num_enc_layers\": 1,',\n",
       " '\"document_title_label\": 0,',\n",
       " '\"document_abstract_label\": 1,',\n",
       " '\"document_fullbody_label\": 2,',\n",
       " '\"citation_title_label\": 0,',\n",
       " '\"citation_abstract_label\": 1,',\n",
       " '\"citation_fullbody_label\": 2,',\n",
       " '\"citation_context_label\": 3,',\n",
       " '\"padding_paragraph_label\": 10,',\n",
       " '}']"
      ]
     },
     "execution_count": 7,
     "metadata": {},
     "output_type": "execute_result"
    }
   ],
   "source": [
    "global_config"
   ]
  },
  {
   "cell_type": "code",
   "execution_count": 24,
   "metadata": {},
   "outputs": [
    {
     "data": {
      "text/plain": [
       "'{\"hehe\": 898, \"ww\": [334, 33]}'"
      ]
     },
     "execution_count": 24,
     "metadata": {},
     "output_type": "execute_result"
    }
   ],
   "source": [
    "json.dumps({\"hehe\":898,\"ww\":[334,33]})"
   ]
  },
  {
   "cell_type": "code",
   "execution_count": 2,
   "metadata": {},
   "outputs": [
    {
     "ename": "JSONDecodeError",
     "evalue": "Expecting property name enclosed in double quotes: line 2 column 5 (char 6)",
     "output_type": "error",
     "traceback": [
      "\u001b[0;31m---------------------------------------------------------------------------\u001b[0m",
      "\u001b[0;31mJSONDecodeError\u001b[0m                           Traceback (most recent call last)",
      "\u001b[0;32m<ipython-input-2-e314f3fe23f1>\u001b[0m in \u001b[0;36m<module>\u001b[0;34m\u001b[0m\n\u001b[0;32m----> 1\u001b[0;31m \u001b[0mparas\u001b[0m \u001b[0;34m=\u001b[0m \u001b[0mjson\u001b[0m\u001b[0;34m.\u001b[0m\u001b[0mload\u001b[0m\u001b[0;34m(\u001b[0m\u001b[0mopen\u001b[0m\u001b[0;34m(\u001b[0m\u001b[0;34m\"config/custom/global_config.cfg\"\u001b[0m\u001b[0;34m)\u001b[0m\u001b[0;34m)\u001b[0m\u001b[0;34m\u001b[0m\u001b[0;34m\u001b[0m\u001b[0m\n\u001b[0m",
      "\u001b[0;32m~/anaconda3/envs/lab/lib/python3.7/json/__init__.py\u001b[0m in \u001b[0;36mload\u001b[0;34m(fp, cls, object_hook, parse_float, parse_int, parse_constant, object_pairs_hook, **kw)\u001b[0m\n\u001b[1;32m    294\u001b[0m         \u001b[0mcls\u001b[0m\u001b[0;34m=\u001b[0m\u001b[0mcls\u001b[0m\u001b[0;34m,\u001b[0m \u001b[0mobject_hook\u001b[0m\u001b[0;34m=\u001b[0m\u001b[0mobject_hook\u001b[0m\u001b[0;34m,\u001b[0m\u001b[0;34m\u001b[0m\u001b[0;34m\u001b[0m\u001b[0m\n\u001b[1;32m    295\u001b[0m         \u001b[0mparse_float\u001b[0m\u001b[0;34m=\u001b[0m\u001b[0mparse_float\u001b[0m\u001b[0;34m,\u001b[0m \u001b[0mparse_int\u001b[0m\u001b[0;34m=\u001b[0m\u001b[0mparse_int\u001b[0m\u001b[0;34m,\u001b[0m\u001b[0;34m\u001b[0m\u001b[0;34m\u001b[0m\u001b[0m\n\u001b[0;32m--> 296\u001b[0;31m         parse_constant=parse_constant, object_pairs_hook=object_pairs_hook, **kw)\n\u001b[0m\u001b[1;32m    297\u001b[0m \u001b[0;34m\u001b[0m\u001b[0m\n\u001b[1;32m    298\u001b[0m \u001b[0;34m\u001b[0m\u001b[0m\n",
      "\u001b[0;32m~/anaconda3/envs/lab/lib/python3.7/json/__init__.py\u001b[0m in \u001b[0;36mloads\u001b[0;34m(s, encoding, cls, object_hook, parse_float, parse_int, parse_constant, object_pairs_hook, **kw)\u001b[0m\n\u001b[1;32m    346\u001b[0m             \u001b[0mparse_int\u001b[0m \u001b[0;32mis\u001b[0m \u001b[0;32mNone\u001b[0m \u001b[0;32mand\u001b[0m \u001b[0mparse_float\u001b[0m \u001b[0;32mis\u001b[0m \u001b[0;32mNone\u001b[0m \u001b[0;32mand\u001b[0m\u001b[0;34m\u001b[0m\u001b[0;34m\u001b[0m\u001b[0m\n\u001b[1;32m    347\u001b[0m             parse_constant is None and object_pairs_hook is None and not kw):\n\u001b[0;32m--> 348\u001b[0;31m         \u001b[0;32mreturn\u001b[0m \u001b[0m_default_decoder\u001b[0m\u001b[0;34m.\u001b[0m\u001b[0mdecode\u001b[0m\u001b[0;34m(\u001b[0m\u001b[0ms\u001b[0m\u001b[0;34m)\u001b[0m\u001b[0;34m\u001b[0m\u001b[0;34m\u001b[0m\u001b[0m\n\u001b[0m\u001b[1;32m    349\u001b[0m     \u001b[0;32mif\u001b[0m \u001b[0mcls\u001b[0m \u001b[0;32mis\u001b[0m \u001b[0;32mNone\u001b[0m\u001b[0;34m:\u001b[0m\u001b[0;34m\u001b[0m\u001b[0;34m\u001b[0m\u001b[0m\n\u001b[1;32m    350\u001b[0m         \u001b[0mcls\u001b[0m \u001b[0;34m=\u001b[0m \u001b[0mJSONDecoder\u001b[0m\u001b[0;34m\u001b[0m\u001b[0;34m\u001b[0m\u001b[0m\n",
      "\u001b[0;32m~/anaconda3/envs/lab/lib/python3.7/json/decoder.py\u001b[0m in \u001b[0;36mdecode\u001b[0;34m(self, s, _w)\u001b[0m\n\u001b[1;32m    335\u001b[0m \u001b[0;34m\u001b[0m\u001b[0m\n\u001b[1;32m    336\u001b[0m         \"\"\"\n\u001b[0;32m--> 337\u001b[0;31m         \u001b[0mobj\u001b[0m\u001b[0;34m,\u001b[0m \u001b[0mend\u001b[0m \u001b[0;34m=\u001b[0m \u001b[0mself\u001b[0m\u001b[0;34m.\u001b[0m\u001b[0mraw_decode\u001b[0m\u001b[0;34m(\u001b[0m\u001b[0ms\u001b[0m\u001b[0;34m,\u001b[0m \u001b[0midx\u001b[0m\u001b[0;34m=\u001b[0m\u001b[0m_w\u001b[0m\u001b[0;34m(\u001b[0m\u001b[0ms\u001b[0m\u001b[0;34m,\u001b[0m \u001b[0;36m0\u001b[0m\u001b[0;34m)\u001b[0m\u001b[0;34m.\u001b[0m\u001b[0mend\u001b[0m\u001b[0;34m(\u001b[0m\u001b[0;34m)\u001b[0m\u001b[0;34m)\u001b[0m\u001b[0;34m\u001b[0m\u001b[0;34m\u001b[0m\u001b[0m\n\u001b[0m\u001b[1;32m    338\u001b[0m         \u001b[0mend\u001b[0m \u001b[0;34m=\u001b[0m \u001b[0m_w\u001b[0m\u001b[0;34m(\u001b[0m\u001b[0ms\u001b[0m\u001b[0;34m,\u001b[0m \u001b[0mend\u001b[0m\u001b[0;34m)\u001b[0m\u001b[0;34m.\u001b[0m\u001b[0mend\u001b[0m\u001b[0;34m(\u001b[0m\u001b[0;34m)\u001b[0m\u001b[0;34m\u001b[0m\u001b[0;34m\u001b[0m\u001b[0m\n\u001b[1;32m    339\u001b[0m         \u001b[0;32mif\u001b[0m \u001b[0mend\u001b[0m \u001b[0;34m!=\u001b[0m \u001b[0mlen\u001b[0m\u001b[0;34m(\u001b[0m\u001b[0ms\u001b[0m\u001b[0;34m)\u001b[0m\u001b[0;34m:\u001b[0m\u001b[0;34m\u001b[0m\u001b[0;34m\u001b[0m\u001b[0m\n",
      "\u001b[0;32m~/anaconda3/envs/lab/lib/python3.7/json/decoder.py\u001b[0m in \u001b[0;36mraw_decode\u001b[0;34m(self, s, idx)\u001b[0m\n\u001b[1;32m    351\u001b[0m         \"\"\"\n\u001b[1;32m    352\u001b[0m         \u001b[0;32mtry\u001b[0m\u001b[0;34m:\u001b[0m\u001b[0;34m\u001b[0m\u001b[0;34m\u001b[0m\u001b[0m\n\u001b[0;32m--> 353\u001b[0;31m             \u001b[0mobj\u001b[0m\u001b[0;34m,\u001b[0m \u001b[0mend\u001b[0m \u001b[0;34m=\u001b[0m \u001b[0mself\u001b[0m\u001b[0;34m.\u001b[0m\u001b[0mscan_once\u001b[0m\u001b[0;34m(\u001b[0m\u001b[0ms\u001b[0m\u001b[0;34m,\u001b[0m \u001b[0midx\u001b[0m\u001b[0;34m)\u001b[0m\u001b[0;34m\u001b[0m\u001b[0;34m\u001b[0m\u001b[0m\n\u001b[0m\u001b[1;32m    354\u001b[0m         \u001b[0;32mexcept\u001b[0m \u001b[0mStopIteration\u001b[0m \u001b[0;32mas\u001b[0m \u001b[0merr\u001b[0m\u001b[0;34m:\u001b[0m\u001b[0;34m\u001b[0m\u001b[0;34m\u001b[0m\u001b[0m\n\u001b[1;32m    355\u001b[0m             \u001b[0;32mraise\u001b[0m \u001b[0mJSONDecodeError\u001b[0m\u001b[0;34m(\u001b[0m\u001b[0;34m\"Expecting value\"\u001b[0m\u001b[0;34m,\u001b[0m \u001b[0ms\u001b[0m\u001b[0;34m,\u001b[0m \u001b[0merr\u001b[0m\u001b[0;34m.\u001b[0m\u001b[0mvalue\u001b[0m\u001b[0;34m)\u001b[0m \u001b[0;32mfrom\u001b[0m \u001b[0;32mNone\u001b[0m\u001b[0;34m\u001b[0m\u001b[0;34m\u001b[0m\u001b[0m\n",
      "\u001b[0;31mJSONDecodeError\u001b[0m: Expecting property name enclosed in double quotes: line 2 column 5 (char 6)"
     ]
    }
   ],
   "source": [
    "paras = json.load(open(\"config/custom/global_config.cfg\"))"
   ]
  },
  {
   "cell_type": "code",
   "execution_count": null,
   "metadata": {},
   "outputs": [],
   "source": []
  }
 ],
 "metadata": {
  "kernelspec": {
   "display_name": "Python 3",
   "language": "python",
   "name": "python3"
  },
  "language_info": {
   "codemirror_mode": {
    "name": "ipython",
    "version": 3
   },
   "file_extension": ".py",
   "mimetype": "text/x-python",
   "name": "python",
   "nbconvert_exporter": "python",
   "pygments_lexer": "ipython3",
   "version": "3.7.10"
  }
 },
 "nbformat": 4,
 "nbformat_minor": 4
}
